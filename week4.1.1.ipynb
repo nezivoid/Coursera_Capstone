{
 "cells": [
  {
   "cell_type": "markdown",
   "metadata": {},
   "source": [
    "Introduction"
   ]
  },
  {
   "cell_type": "markdown",
   "metadata": {},
   "source": [
    "Benin formerly Dahomey, is a francophone country in West Africa. The neighboring countries to\n",
    "Benin are Togo to the west, Nigeria to the east and Burkina Faso and Niger to the north. In Benin,\n",
    "majority of people lives in the southern part while from the center to the northern part of the\n",
    "country we have very large surface of land used for farming with few land used for shopping mall\n",
    "or park or business centers. We explain such situation by the concentration of administratives and\n",
    "economics activities in the southern part of the country. In fact the capital of Benin is Porto-Novo\n",
    "(situated in the south, department of Oueme), the seat of government is in Cotonou (situated in\n",
    "the south, department of Littoral). Parakou (situated in the north, department of Borgou) added to\n",
    "Cotonou and Porto-Novo are three cities with particular status for their density in administrative\n",
    "and economics activities."
   ]
  },
  {
   "cell_type": "markdown",
   "metadata": {},
   "source": [
    "Business Problem"
   ]
  },
  {
   "cell_type": "markdown",
   "metadata": {},
   "source": [
    "For many foreigners investing in Benin as well as citizens it is more common to settle a business\n",
    "in the south and make its flourish by the power of your marketing strategies. However, this could\n",
    "easily turn into a nightmare of endless financial investment due to the very fierce competition between small and big companies or newly established growing companies and old well-established\n",
    "companies. As mentionned earlier, the northern part of the country really abounds of free land\n",
    "that are ready to be used for bussiness establishement and a population badly in need of that.\n",
    "However, entrepreneurs are still skeptic to establish themselves and develop good business activities. In this study we would like to draw again to the attention of Benineses and foreigns investors\n",
    "the real existence of an empty vaccum that needs to be filled for good business profit and development of the country at large in order to re-equilibrate this distribution of business activities all\n",
    "over the country."
   ]
  }
 ],
 "metadata": {
  "kernelspec": {
   "display_name": "Python 3",
   "language": "python",
   "name": "python3"
  },
  "language_info": {
   "codemirror_mode": {
    "name": "ipython",
    "version": 3
   },
   "file_extension": ".py",
   "mimetype": "text/x-python",
   "name": "python",
   "nbconvert_exporter": "python",
   "pygments_lexer": "ipython3",
   "version": "3.7.6"
  }
 },
 "nbformat": 4,
 "nbformat_minor": 4
}
