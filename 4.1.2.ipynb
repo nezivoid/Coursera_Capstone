{
 "cells": [
  {
   "cell_type": "markdown",
   "metadata": {},
   "source": [
    "Data Description"
   ]
  },
  {
   "cell_type": "markdown",
   "metadata": {},
   "source": [
    "To approach this problem we will use the following data as follow :\n",
    "We found the informations about the departments and communes of Benin on wikipedia :\n",
    "We scrape that information to create our dataframe of Department, Borough and Region.\n",
    "We found sample of dataset about the regions and their neighborhoods in Benin at the webpage GeoPostcodes : \n",
    "We use this information to create a geocoder dataframe of department,region with their neighborhood and the information about their latitude and longitude.\n",
    "We used Foursquare API to collect the infomration about the venues in two selected region :\n",
    "We will select one region in the south and another in the north of the country. These selected\n",
    "region will be subjected to some analysis to identify the most common venues in these part\n",
    "of the country."
   ]
  }
 ],
 "metadata": {
  "kernelspec": {
   "display_name": "Python 3",
   "language": "python",
   "name": "python3"
  },
  "language_info": {
   "codemirror_mode": {
    "name": "ipython",
    "version": 3
   },
   "file_extension": ".py",
   "mimetype": "text/x-python",
   "name": "python",
   "nbconvert_exporter": "python",
   "pygments_lexer": "ipython3",
   "version": "3.7.6"
  }
 },
 "nbformat": 4,
 "nbformat_minor": 4
}
